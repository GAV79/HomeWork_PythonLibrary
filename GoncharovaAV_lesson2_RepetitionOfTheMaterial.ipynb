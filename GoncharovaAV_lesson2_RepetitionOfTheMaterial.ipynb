{
 "cells": [
  {
   "cell_type": "markdown",
   "id": "f19d1bd9",
   "metadata": {},
   "source": [
    "## Задания на повторение материала"
   ]
  },
  {
   "cell_type": "markdown",
   "id": "764395a4",
   "metadata": {},
   "source": [
    "### Задание 1"
   ]
  },
  {
   "cell_type": "code",
   "execution_count": 5,
   "id": "b9d55dbb",
   "metadata": {},
   "outputs": [
    {
     "data": {
      "text/plain": [
       "array([12, 13, 14, 15, 16, 17, 18, 19, 20, 21, 22, 23])"
      ]
     },
     "execution_count": 5,
     "metadata": {},
     "output_type": "execute_result"
    }
   ],
   "source": [
    "import numpy as np\n",
    "a = np.arange(12, 24)\n",
    "a"
   ]
  },
  {
   "cell_type": "markdown",
   "id": "61f980f1",
   "metadata": {},
   "source": [
    "### Задание 2"
   ]
  },
  {
   "cell_type": "code",
   "execution_count": 16,
   "id": "e976d8aa",
   "metadata": {},
   "outputs": [
    {
     "name": "stdout",
     "output_type": "stream",
     "text": [
      "\n",
      "Размерность a1: 2\n",
      "[[12 13 14 15]\n",
      " [16 17 18 19]\n",
      " [20 21 22 23]]\n",
      "\n",
      "Размерность a2: 2\n",
      "[[12 13 14]\n",
      " [15 16 17]\n",
      " [18 19 20]\n",
      " [21 22 23]]\n",
      "\n",
      "Размерность a3: 2\n",
      "[[18 12]\n",
      " [19 20]]\n",
      "\n",
      "Размерность a4: 2\n",
      "[[16 22]\n",
      " [22 20]\n",
      " [15 16]\n",
      " [20 14]\n",
      " [21 15]]\n",
      "\n",
      "Размерность a5: 2\n",
      "[[12 12 18 21]\n",
      " [20 22 16 19]]\n"
     ]
    }
   ],
   "source": [
    "import numpy as np\n",
    "a = np.arange(12, 24)\n",
    "print()\n",
    "a1 = a.reshape(3, 4)\n",
    "print(f'Размерность a1: {format(a1.ndim)}')\n",
    "print(a1)\n",
    "print()\n",
    "a2 = a.reshape(4, 3)\n",
    "print(f'Размерность a2: {format(a2.ndim)}')\n",
    "print(a2)\n",
    "print()\n",
    "a3 = np.random.choice(a, (2, 2))\n",
    "print(f'Размерность a3: {format(a3.ndim)}')\n",
    "print(a3)\n",
    "print()\n",
    "a4 = np.random.choice(a, (5, 2))\n",
    "print(f'Размерность a4: {format(a4.ndim)}')\n",
    "print(a4)\n",
    "print()\n",
    "a5 = np.random.choice(a, (2, 4))\n",
    "print(f'Размерность a5: {format(a5.ndim)}')\n",
    "print(a5)"
   ]
  },
  {
   "cell_type": "markdown",
   "id": "26559954",
   "metadata": {},
   "source": [
    "### Задание 3"
   ]
  },
  {
   "cell_type": "code",
   "execution_count": 19,
   "id": "2262186e",
   "metadata": {},
   "outputs": [
    {
     "name": "stdout",
     "output_type": "stream",
     "text": [
      "\n",
      "Размерность a1: 2\n",
      "[[12 13 14 15]\n",
      " [16 17 18 19]\n",
      " [20 21 22 23]]\n",
      "\n",
      "Размерность a2: 2\n",
      "[[12 13 14]\n",
      " [15 16 17]\n",
      " [18 19 20]\n",
      " [21 22 23]]\n",
      "\n",
      "Размерность a3: 2\n",
      "[[12]\n",
      " [13]\n",
      " [14]\n",
      " [15]\n",
      " [16]\n",
      " [17]\n",
      " [18]\n",
      " [19]\n",
      " [20]\n",
      " [21]\n",
      " [22]\n",
      " [23]]\n",
      "\n",
      "Размерность a4: 2\n",
      "[[12 13]\n",
      " [14 15]\n",
      " [16 17]\n",
      " [18 19]\n",
      " [20 21]\n",
      " [22 23]]\n",
      "\n",
      "Размерность a5: 2\n",
      "[[12 13 14 15 16 17]\n",
      " [18 19 20 21 22 23]]\n"
     ]
    }
   ],
   "source": [
    "import numpy as np\n",
    "a = np.arange(12, 24)\n",
    "print()\n",
    "a1 = a.reshape(3, -1)\n",
    "print(f'Размерность a1: {format(a1.ndim)}')\n",
    "print(a1)\n",
    "print()\n",
    "a2 = a.reshape(4, -1)\n",
    "print(f'Размерность a2: {format(a2.ndim)}')\n",
    "print(a2)\n",
    "print()\n",
    "a3 = a.reshape(12, -1)\n",
    "print(f'Размерность a3: {format(a3.ndim)}')\n",
    "print(a3)\n",
    "print()\n",
    "a4 = a.reshape(-1, 2)\n",
    "print(f'Размерность a4: {format(a4.ndim)}')\n",
    "print(a4)\n",
    "print()\n",
    "a5 = a.reshape(-1, 6)\n",
    "print(f'Размерность a5: {format(a5.ndim)}')\n",
    "print(a5)"
   ]
  },
  {
   "cell_type": "markdown",
   "id": "f1b61288",
   "metadata": {},
   "source": [
    "### Задание 4 "
   ]
  },
  {
   "cell_type": "code",
   "execution_count": 23,
   "id": "d801ba97",
   "metadata": {},
   "outputs": [
    {
     "name": "stdout",
     "output_type": "stream",
     "text": [
      "[[0.92571869]\n",
      " [0.0723562 ]\n",
      " [0.16784377]\n",
      " [0.44054004]\n",
      " [0.14400219]\n",
      " [0.20337561]\n",
      " [0.77502481]\n",
      " [0.86508221]\n",
      " [0.67090604]\n",
      " [0.88328497]\n",
      " [0.53300217]\n",
      " [0.64442236]]\n",
      "Размерность а: 2\n"
     ]
    }
   ],
   "source": [
    "# Можно ли массив Numpy из 12 сторок и 1 столбца назвать одномерным? - нет\n",
    "import numpy as np\n",
    "a = np.random.sample((12, 1))\n",
    "b = format(a.ndim)\n",
    "print(a)\n",
    "print(f'Размерность а: {b}')"
   ]
  },
  {
   "cell_type": "markdown",
   "id": "ff559137",
   "metadata": {},
   "source": [
    "### Задание 5"
   ]
  },
  {
   "cell_type": "code",
   "execution_count": 26,
   "id": "a405f9f6",
   "metadata": {},
   "outputs": [
    {
     "name": "stdout",
     "output_type": "stream",
     "text": [
      "[[-0.30272628 -1.16339648  0.70865216  0.83387537]\n",
      " [-0.27369403 -0.87852531  0.49182009  0.18809972]\n",
      " [ 0.41547188  0.28239015  0.36333923 -0.09992744]]\n",
      "\n",
      "[-0.30272628 -1.16339648  0.70865216  0.83387537 -0.27369403 -0.87852531\n",
      "  0.49182009  0.18809972  0.41547188  0.28239015  0.36333923 -0.09992744]\n",
      "\n",
      "размер а: 12\n",
      "размер b: 12\n"
     ]
    }
   ],
   "source": [
    "import numpy as np\n",
    "a = np.random.randn(3,4)\n",
    "print(a)\n",
    "print()\n",
    "b = a.flatten()\n",
    "print(b)\n",
    "print()\n",
    "print(f'размер а: {a.size}')\n",
    "print(f'размер b: {b.size}')"
   ]
  },
  {
   "cell_type": "markdown",
   "id": "f3f24cfb",
   "metadata": {},
   "source": [
    "### Задание 6"
   ]
  },
  {
   "cell_type": "code",
   "execution_count": 27,
   "id": "d1b9918c",
   "metadata": {},
   "outputs": [
    {
     "name": "stdout",
     "output_type": "stream",
     "text": [
      "[20 18 16 14 12 10  8  6  4  2]\n"
     ]
    }
   ],
   "source": [
    "import numpy as np\n",
    "a = np.arange(20, 0, -2)\n",
    "print(a)"
   ]
  },
  {
   "cell_type": "markdown",
   "id": "58519172",
   "metadata": {},
   "source": [
    "### Задание 7"
   ]
  },
  {
   "cell_type": "code",
   "execution_count": 40,
   "id": "f47ba051",
   "metadata": {},
   "outputs": [
    {
     "name": "stdout",
     "output_type": "stream",
     "text": [
      "[20 18 16 14 12 10  8  6  4  2]\n",
      "\n",
      "[[20 18 16 14 12 10  8  6  4  2]]\n",
      "\n",
      "Размерность а: 1\n",
      "Размерность b: 2\n",
      "Массив а - одномерный, массив b - двумерный\n"
     ]
    }
   ],
   "source": [
    "import numpy as np\n",
    "a = np.arange(20, 0, -2)\n",
    "b = np.arange(20, 1, -2).reshape(1, 10)\n",
    "print(a)\n",
    "print()\n",
    "print(b)\n",
    "print()\n",
    "print(f'Размерность а: {format(a.ndim)}')\n",
    "print(f'Размерность b: {format(b.ndim)}')\n",
    "print('Массив а - одномерный, массив b - двумерный')"
   ]
  },
  {
   "cell_type": "markdown",
   "id": "00d6aaab",
   "metadata": {},
   "source": [
    "### Задание 8"
   ]
  },
  {
   "cell_type": "code",
   "execution_count": 45,
   "id": "7ede3970",
   "metadata": {},
   "outputs": [
    {
     "name": "stdout",
     "output_type": "stream",
     "text": [
      "[[0. 0.]\n",
      " [0. 0.]\n",
      " [1. 1.]\n",
      " [1. 1.]\n",
      " [1. 1.]]\n",
      "Размер d = 10\n"
     ]
    }
   ],
   "source": [
    "import numpy as np\n",
    "a = np.zeros((2, 2))\n",
    "b = np.ones((3, 2))\n",
    "d = np.concatenate((a, b), axis=0)\n",
    "print(d)\n",
    "print(f'Размер d = {d.size}')"
   ]
  },
  {
   "cell_type": "markdown",
   "id": "f87c404c",
   "metadata": {},
   "source": [
    "### Задание 9"
   ]
  },
  {
   "cell_type": "code",
   "execution_count": 55,
   "id": "f7943ae0",
   "metadata": {},
   "outputs": [
    {
     "name": "stdout",
     "output_type": "stream",
     "text": [
      "[[  5  14  23  32]\n",
      " [ 14  50  86 122]\n",
      " [ 23  86 149 212]\n",
      " [ 32 122 212 302]]\n",
      "Размер матрицы B: (4, 4)\n",
      "\n",
      "Так как определитель матрицы В = 0.0, вычислить обратную матрицу для матрицы В нельзя.\n"
     ]
    }
   ],
   "source": [
    "import numpy as np\n",
    "a = np.arange(0, 12)\n",
    "A = a.reshape(4, 3)\n",
    "At = A.T\n",
    "B = A.dot(At)\n",
    "print(B)\n",
    "print(f'Размер матрицы B: {format(B.shape)}') \n",
    "print()\n",
    "d = np.linalg.det(B)\n",
    "print(f'Так как определитель матрицы В = {d}, вычислить обратную матрицу для матрицы В нельзя.')"
   ]
  },
  {
   "cell_type": "markdown",
   "id": "3f6ef9e9",
   "metadata": {},
   "source": [
    "### Задание 10"
   ]
  },
  {
   "cell_type": "code",
   "execution_count": 6,
   "id": "1bead66a",
   "metadata": {},
   "outputs": [
    {
     "name": "stdout",
     "output_type": "stream",
     "text": [
      "7\n"
     ]
    }
   ],
   "source": [
    "import numpy as np\n",
    "np.random.seed(42)\n",
    "a = np.random.randint(1, 10)\n",
    "print(a)"
   ]
  },
  {
   "cell_type": "markdown",
   "id": "f1f82523",
   "metadata": {},
   "source": [
    "### Задание 11"
   ]
  },
  {
   "cell_type": "code",
   "execution_count": 10,
   "id": "95910774",
   "metadata": {},
   "outputs": [
    {
     "data": {
      "text/plain": [
       "array([13, 14, 13,  2, 11,  6,  3, 15,  8,  2,  4,  2,  6,  4,  8,  6])"
      ]
     },
     "execution_count": 10,
     "metadata": {},
     "output_type": "execute_result"
    }
   ],
   "source": [
    "import numpy as np\n",
    "c = np.random.randint(0, 16, size=16)\n",
    "c"
   ]
  },
  {
   "cell_type": "markdown",
   "id": "10e3afd5",
   "metadata": {},
   "source": [
    "### Задание 12"
   ]
  },
  {
   "cell_type": "code",
   "execution_count": 18,
   "id": "20ca6d7c",
   "metadata": {},
   "outputs": [
    {
     "name": "stdout",
     "output_type": "stream",
     "text": [
      "Матрица D:\n",
      "[[ 85  84 133  42]\n",
      " [ 14 200 146 182]\n",
      " [153 156 189 232]\n",
      " [142 192 262 402]]\n",
      "\n",
      "Определитель матрицы D = -253137600.0000001\n",
      "Ранг матрицы D = 4\n",
      "\n",
      "обратная матрица D_inv для матрицы D\n",
      "[[-0.00482173 -0.0037431   0.01618693 -0.00714331]\n",
      " [-0.00610814  0.00770664  0.01148672 -0.00948006]\n",
      " [ 0.0163677  -0.00217874 -0.01770579  0.0094946 ]\n",
      " [-0.00604699 -0.00093862  0.00033563  0.00335059]]\n"
     ]
    }
   ],
   "source": [
    "import numpy as np\n",
    "a = np.arange(0, 12)\n",
    "A = a.reshape(4, 3)\n",
    "At = A.T\n",
    "B = A.dot(At)\n",
    "c = np.random.randint(0, 16, size=16)\n",
    "C = c.reshape(4,4)\n",
    "\n",
    "D = 10 * C + B\n",
    "print('Матрица D:')\n",
    "print(D)\n",
    "print()\n",
    "d = np.linalg.det(D)\n",
    "print(f'Определитель матрицы D = {d}')\n",
    "r = np.linalg.matrix_rank(D)\n",
    "print(f'Ранг матрицы D = {r}')\n",
    "print()\n",
    "if d > 0:\n",
    "    D_inv = np.linalg.inv(D)\n",
    "    print(\"обратная матрица D_inv для матрицы D\")\n",
    "    print(D_inv)\n",
    "else:\n",
    "    print('Определитель матрицы равен 0, обратную матрицу посчитать нельзя')\n"
   ]
  },
  {
   "cell_type": "markdown",
   "id": "8f2bd923",
   "metadata": {},
   "source": [
    "### Задание 13"
   ]
  },
  {
   "cell_type": "code",
   "execution_count": 34,
   "id": "1842ca85",
   "metadata": {},
   "outputs": [
    {
     "name": "stdout",
     "output_type": "stream",
     "text": [
      "обратная матрица D_inv для матрицы D\n",
      "[[ 0.11413648  0.10794998  0.01630703 -0.10643988]\n",
      " [-0.0255709  -0.03279377 -0.00082364  0.02765889]\n",
      " [-0.03775592 -0.031511   -0.01717956  0.04214019]\n",
      " [-0.00554448 -0.00244424  0.00804651 -0.0012072 ]]\n",
      "\n",
      "Замена в матрице D_inv отрицательных элементов на 0, а положительных на 1\n",
      "матрица D_inv c 0 и 1\n",
      "[[1. 1. 1. 0.]\n",
      " [0. 0. 0. 1.]\n",
      " [0. 0. 0. 1.]\n",
      " [0. 0. 1. 0.]]\n",
      "\n",
      "Матрица В:\n",
      "[[  5  14  23  32]\n",
      " [ 14  50  86 122]\n",
      " [ 23  86 149 212]\n",
      " [ 32 122 212 302]]\n",
      "Матрица С:\n",
      "[[ 7 15  6  1]\n",
      " [ 7  0 10 11]\n",
      " [ 8  8  1  6]\n",
      " [14 13  9  2]]\n",
      "\n",
      "Матрица E: если элемент матрицы D_inv = 1, то значение из матрицы В; если = 0, то значение из матрицы С.\n",
      "[[  5  14  23   1]\n",
      " [  7   0  10 122]\n",
      " [  8   8   1 212]\n",
      " [ 14  13 212   2]]\n"
     ]
    }
   ],
   "source": [
    "import numpy as np\n",
    "a = np.arange(0, 12)\n",
    "A = a.reshape(4, 3)\n",
    "At = A.T\n",
    "B = A.dot(At)\n",
    "c = np.random.randint(0, 16, size=16)\n",
    "C = c.reshape(4,4)\n",
    "D = 10 * C + B\n",
    "d = np.linalg.det(D)\n",
    "if d != 0:\n",
    "    D_inv = np.linalg.inv(D)\n",
    "    print(\"обратная матрица D_inv для матрицы D\")\n",
    "    print(D_inv)\n",
    "    print()\n",
    "    print('Замена в матрице D_inv отрицательных элементов на 0, а положительных на 1')\n",
    "    D_inv[D_inv <= 0] = 0\n",
    "    D_inv[D_inv > 0] = 1\n",
    "    print('матрица D_inv c 0 и 1')\n",
    "    print(D_inv)\n",
    "    print()\n",
    "    print('Матрица В:')\n",
    "    print(B)\n",
    "    print('Матрица С:')\n",
    "    print(C)\n",
    "    print()\n",
    "    E = np.where(D_inv == 1, B, C)\n",
    "    print('Матрица E: если элемент матрицы D_inv = 1, то значение из матрицы В; если = 0, то значение из матрицы С.')\n",
    "    print(E)\n",
    "else:\n",
    "    print('Определитель матрицы равен 0, обратную матрицу посчитать нельзя')\n"
   ]
  },
  {
   "cell_type": "code",
   "execution_count": null,
   "id": "005b7bb6",
   "metadata": {},
   "outputs": [],
   "source": []
  }
 ],
 "metadata": {
  "kernelspec": {
   "display_name": "Python 3 (ipykernel)",
   "language": "python",
   "name": "python3"
  },
  "language_info": {
   "codemirror_mode": {
    "name": "ipython",
    "version": 3
   },
   "file_extension": ".py",
   "mimetype": "text/x-python",
   "name": "python",
   "nbconvert_exporter": "python",
   "pygments_lexer": "ipython3",
   "version": "3.9.7"
  }
 },
 "nbformat": 4,
 "nbformat_minor": 5
}
