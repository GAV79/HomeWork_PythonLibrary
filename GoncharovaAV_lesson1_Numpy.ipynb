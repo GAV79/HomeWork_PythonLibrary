{
 "cells": [
  {
   "cell_type": "markdown",
   "id": "4c015dae",
   "metadata": {},
   "source": [
    "## Тема: Вычисления с помощью Numpy\n",
    "### задание 1\n"
   ]
  },
  {
   "cell_type": "code",
   "execution_count": 10,
   "id": "0ee03a46",
   "metadata": {},
   "outputs": [
    {
     "name": "stdout",
     "output_type": "stream",
     "text": [
      "Массив:\n",
      "[[ 1  6]\n",
      " [ 2  8]\n",
      " [ 3 11]\n",
      " [ 3 10]\n",
      " [ 1  7]]\n",
      "Средние значения по столбцам: [2.  8.4]\n"
     ]
    }
   ],
   "source": [
    "import numpy as np\n",
    "a = np.array([[1, 6], [2, 8], [3, 11], [3, 10], [1, 7]])\n",
    "print('Массив:')\n",
    "print(a)\n",
    "mean_a = a.mean(axis=0)\n",
    "print(f'Средние значения по столбцам: {mean_a}')"
   ]
  },
  {
   "cell_type": "markdown",
   "id": "a64f399f",
   "metadata": {},
   "source": [
    "### задание 2"
   ]
  },
  {
   "cell_type": "code",
   "execution_count": 12,
   "id": "86749b1c",
   "metadata": {},
   "outputs": [
    {
     "name": "stdout",
     "output_type": "stream",
     "text": [
      "Из массива а отняли средние значения по столбцам:\n",
      "[[-1.  -2.4]\n",
      " [ 0.  -0.4]\n",
      " [ 1.   2.6]\n",
      " [ 1.   1.6]\n",
      " [-1.  -1.4]]\n"
     ]
    }
   ],
   "source": [
    "import numpy as np\n",
    "a = np.array([[1, 6], [2, 8], [3, 11], [3, 10], [1, 7]])\n",
    "mean_a = a.mean(axis=0)\n",
    "a_centered = a - mean_a\n",
    "print('Из массива а отняли средние значения по столбцам:')\n",
    "print(a_centered)"
   ]
  },
  {
   "cell_type": "markdown",
   "id": "9a579fe8",
   "metadata": {},
   "source": [
    "### задание 3"
   ]
  },
  {
   "cell_type": "code",
   "execution_count": 24,
   "id": "86db08a5",
   "metadata": {},
   "outputs": [
    {
     "name": "stdout",
     "output_type": "stream",
     "text": [
      "[-1.  0.  1.  1. -1.]\n",
      "[-2.4 -0.4  2.6  1.6 -1.4]\n",
      "Скалярное произведение столбцов: 8.0\n",
      "Несмещенная оценка ковариации: 2.0\n"
     ]
    }
   ],
   "source": [
    "import numpy as np\n",
    "a = np.array([[1, 6], [2, 8], [3, 11], [3, 10], [1, 7]])\n",
    "mean_a = a.mean(axis=0)\n",
    "a_centered = a - mean_a\n",
    "a0 = a_centered[0:5, 0].copy()\n",
    "a1 = a_centered[0:5, 1].copy()\n",
    "print(a0)\n",
    "print(a1)\n",
    "a_centered_sp = a0 @ a1\n",
    "N = 5 # число наблюдений\n",
    "print(f'Скалярное произведение столбцов: {a_centered_sp}')\n",
    "print(f'Несмещенная оценка ковариации: {a_centered_sp / (N - 1)}')"
   ]
  },
  {
   "cell_type": "markdown",
   "id": "cd3b542f",
   "metadata": {},
   "source": [
    "### задание 4**"
   ]
  },
  {
   "cell_type": "code",
   "execution_count": 23,
   "id": "050f659f",
   "metadata": {},
   "outputs": [
    {
     "name": "stdout",
     "output_type": "stream",
     "text": [
      "Ковариационная матрица: \n",
      "[[1.  2. ]\n",
      " [2.  4.3]]\n",
      "Ковариация = 2.0\n"
     ]
    }
   ],
   "source": [
    "import numpy as np\n",
    "a = np.array([[1, 6], [2, 8], [3, 11], [3, 10], [1, 7]])\n",
    "aT = a.T # транспонированный массив а\n",
    "m = np.cov(aT)\n",
    "print('Ковариационная матрица: ')\n",
    "print(m)\n",
    "a_cov = m[0, 1]\n",
    "print(f'Ковариация = {a_cov}')"
   ]
  }
 ],
 "metadata": {
  "kernelspec": {
   "display_name": "Python 3 (ipykernel)",
   "language": "python",
   "name": "python3"
  },
  "language_info": {
   "codemirror_mode": {
    "name": "ipython",
    "version": 3
   },
   "file_extension": ".py",
   "mimetype": "text/x-python",
   "name": "python",
   "nbconvert_exporter": "python",
   "pygments_lexer": "ipython3",
   "version": "3.9.7"
  }
 },
 "nbformat": 4,
 "nbformat_minor": 5
}
